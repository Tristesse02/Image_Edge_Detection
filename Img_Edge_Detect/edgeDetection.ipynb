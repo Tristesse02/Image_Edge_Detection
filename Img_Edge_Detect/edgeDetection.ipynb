{
 "cells": [
  {
   "cell_type": "code",
   "execution_count": 2,
   "metadata": {},
   "outputs": [],
   "source": [
    "import numpy as np\n",
    "import cv2"
   ]
  },
  {
   "cell_type": "markdown",
   "metadata": {},
   "source": [
    "Attempt1: using library for edge detection"
   ]
  },
  {
   "cell_type": "code",
   "execution_count": 3,
   "metadata": {},
   "outputs": [],
   "source": [
    "image = cv2.imread(r'C:\\Users\\vtminh\\Documents\\UMass deadly\\2nd year\\why many folder\\Img_Edge_Detect\\image.jpg')\n",
    "ddepth1 = cv2.CV_64F\n",
    "ddepth2 = cv2.CV_64F\n",
    "\n",
    "# print(image.shape)\n",
    "# print(image)\n",
    "\n",
    "scale_percent = 100\n",
    "width = int(image.shape[1] * scale_percent / 100)\n",
    "height = int(image.shape[0] * scale_percent / 100)\n",
    "dim = (width, height)\n",
    "\n",
    "resized = cv2.resize(image, dim)\n",
    "\n",
    "gray = cv2.cvtColor(resized, cv2.COLOR_BGR2GRAY)\n",
    "blurred = cv2.GaussianBlur(resized,(3,3),cv2.BORDER_ISOLATED)\n",
    "sharpen1 = cv2.Sobel(gray, ddepth1, 1, 0, ksize=3, scale = 1, delta = 30, borderType = cv2.BORDER_DEFAULT)\n",
    "sharpen2 = cv2.Sobel(gray, ddepth2, 1, 0, ksize=3, scale = 1, delta = 0, borderType = cv2.BORDER_DEFAULT)"
   ]
  },
  {
   "cell_type": "markdown",
   "metadata": {},
   "source": [
    "Attempt2: recreating the library :)))"
   ]
  },
  {
   "cell_type": "code",
   "execution_count": 4,
   "metadata": {},
   "outputs": [
    {
     "name": "stdout",
     "output_type": "stream",
     "text": [
      "(1080, 1919, 3)\n",
      "[[[166 161 143]\n",
      "  [165 159 142]\n",
      "  [166 161 143]\n",
      "  ...\n",
      "  [ 62  74  81]\n",
      "  [ 62  74  81]\n",
      "  [ 65  76  83]]\n",
      "\n",
      " [[166 161 143]\n",
      "  [168 163 146]\n",
      "  [170 164 147]\n",
      "  ...\n",
      "  [ 66  77  84]\n",
      "  [ 67  78  86]\n",
      "  [ 66  77  84]]\n",
      "\n",
      " [[166 161 143]\n",
      "  [166 161 143]\n",
      "  [167 162 144]\n",
      "  ...\n",
      "  [ 67  78  86]\n",
      "  [ 67  78  86]\n",
      "  [ 64  75  82]]\n",
      "\n",
      " ...\n",
      "\n",
      " [[ 37  41  29]\n",
      "  [ 38  42  30]\n",
      "  [ 37  41  29]\n",
      "  ...\n",
      "  [120 111 103]\n",
      "  [121 112 104]\n",
      "  [121 112 104]]\n",
      "\n",
      " [[ 37  41  29]\n",
      "  [ 38  42  30]\n",
      "  [ 35  39  27]\n",
      "  ...\n",
      "  [122 113 105]\n",
      "  [121 112 104]\n",
      "  [121 112 104]]\n",
      "\n",
      " [[ 33  37  25]\n",
      "  [ 34  38  26]\n",
      "  [ 38  42  30]\n",
      "  ...\n",
      "  [120 111 103]\n",
      "  [120 111 103]\n",
      "  [118 110 102]]]\n"
     ]
    }
   ],
   "source": [
    "img = cv2.imread(r'C:\\Users\\vtminh\\Documents\\UMass deadly\\2nd year\\why many folder\\Img_Edge_Detect\\image.jpg')\n",
    "\n",
    "print(img.shape)\n",
    "print(img)"
   ]
  },
  {
   "cell_type": "code",
   "execution_count": 5,
   "metadata": {},
   "outputs": [
    {
     "name": "stdout",
     "output_type": "stream",
     "text": [
      "[[[160 160 160]\n",
      "  [165 159 142]\n",
      "  [166 161 143]\n",
      "  ...\n",
      "  [ 62  74  81]\n",
      "  [ 62  74  81]\n",
      "  [ 65  76  83]]\n",
      "\n",
      " [[166 161 143]\n",
      "  [168 163 146]\n",
      "  [170 164 147]\n",
      "  ...\n",
      "  [ 66  77  84]\n",
      "  [ 67  78  86]\n",
      "  [ 66  77  84]]\n",
      "\n",
      " [[166 161 143]\n",
      "  [166 161 143]\n",
      "  [167 162 144]\n",
      "  ...\n",
      "  [ 67  78  86]\n",
      "  [ 67  78  86]\n",
      "  [ 64  75  82]]\n",
      "\n",
      " ...\n",
      "\n",
      " [[ 37  41  29]\n",
      "  [ 38  42  30]\n",
      "  [ 37  41  29]\n",
      "  ...\n",
      "  [120 111 103]\n",
      "  [121 112 104]\n",
      "  [121 112 104]]\n",
      "\n",
      " [[ 37  41  29]\n",
      "  [ 38  42  30]\n",
      "  [ 35  39  27]\n",
      "  ...\n",
      "  [122 113 105]\n",
      "  [121 112 104]\n",
      "  [121 112 104]]\n",
      "\n",
      " [[ 33  37  25]\n",
      "  [ 34  38  26]\n",
      "  [ 38  42  30]\n",
      "  ...\n",
      "  [120 111 103]\n",
      "  [120 111 103]\n",
      "  [118 110 102]]]\n"
     ]
    }
   ],
   "source": [
    "# creating grey image\n",
    "def grayScale(r, g, b):\n",
    "  x = r * 0.299 + g * 0.587 + b * 0.114\n",
    "  return x\n",
    "\n",
    "img[0][0] = grayScale(img[0][0][0], img[0][0][1], img[0][0][2])\n",
    "print(img)"
   ]
  },
  {
   "cell_type": "code",
   "execution_count": 7,
   "metadata": {},
   "outputs": [],
   "source": [
    "copyImg = img\n",
    "for i in range(len(copyImg)):\n",
    "  for j in range(len(copyImg[i])):\n",
    "    img[i][j] = grayScale(img[i][j][0], img[i][j][1], img[i][j][2])\n"
   ]
  },
  {
   "cell_type": "code",
   "execution_count": 8,
   "metadata": {},
   "outputs": [
    {
     "name": "stdout",
     "output_type": "stream",
     "text": [
      "3\n",
      "[[[0 0]\n",
      "  [0 0]\n",
      "  [0 0]\n",
      "  [0 0]\n",
      "  [0 0]\n",
      "  [0 0]]\n",
      "\n",
      " [[0 0]\n",
      "  [0 0]\n",
      "  [0 0]\n",
      "  [0 0]\n",
      "  [0 0]\n",
      "  [0 0]]\n",
      "\n",
      " [[0 0]\n",
      "  [0 0]\n",
      "  [1 2]\n",
      "  [3 4]\n",
      "  [0 0]\n",
      "  [0 0]]\n",
      "\n",
      " [[0 0]\n",
      "  [0 0]\n",
      "  [3 5]\n",
      "  [2 6]\n",
      "  [0 0]\n",
      "  [0 0]]\n",
      "\n",
      " [[0 0]\n",
      "  [0 0]\n",
      "  [3 5]\n",
      "  [2 6]\n",
      "  [0 0]\n",
      "  [0 0]]\n",
      "\n",
      " [[0 0]\n",
      "  [0 0]\n",
      "  [0 0]\n",
      "  [0 0]\n",
      "  [0 0]\n",
      "  [0 0]]\n",
      "\n",
      " [[0 0]\n",
      "  [0 0]\n",
      "  [0 0]\n",
      "  [0 0]\n",
      "  [0 0]\n",
      "  [0 0]]]\n"
     ]
    }
   ],
   "source": [
    "# padding method\n",
    "def padding(matrix_3d, pad):\n",
    "  matrix_3d = np.pad(matrix_3d, ((pad, pad), (pad, pad), (0, 0)), \n",
    "                      'constant')\n",
    "  return matrix_3d\n",
    "\n",
    "arr = np.array([[[1,2],[3,4]],\n",
    "                [[3,5],[2,6]],\n",
    "                [[3,5],[2,6]]])\n",
    "print(arr.shape[0])\n",
    "print(padding(arr, 2))"
   ]
  },
  {
   "cell_type": "code",
   "execution_count": 9,
   "metadata": {},
   "outputs": [
    {
     "name": "stdout",
     "output_type": "stream",
     "text": [
      "2\n",
      "[[-1 -1 -1 -1 -1]\n",
      " [-1 -1 -1 -1 -1]\n",
      " [-1 -1 24 -1 -1]\n",
      " [-1 -1 -1 -1 -1]\n",
      " [-1 -1 -1 -1 -1]]\n"
     ]
    }
   ],
   "source": [
    "# creating kernel\n",
    "def kernel(k):\n",
    "  if(k % 2 == 0):\n",
    "    Exception(\"bruh bro\")\n",
    "  else:\n",
    "    midInd = int((k - 1)/2)\n",
    "    print(midInd)\n",
    "    ker = np.ones((k, k), dtype = int) * (-1)\n",
    "    ker[midInd][midInd] = int(k*k) - 1\n",
    "    return ker\n",
    "\n",
    "print(kernel(5))"
   ]
  },
  {
   "cell_type": "code",
   "execution_count": 10,
   "metadata": {},
   "outputs": [],
   "source": [
    "# convolution function\n",
    "def convolution(origMat, k, s, p):\n",
    "  newMat = padding(origMat, p)\n",
    "  newWidth = int((len(newMat) - k + 2 * p)/s + 1)\n",
    "  newLength = int((len(newMat[0]) - k + 2 * p)/s + 1)\n",
    "  ker = kernel(k)\n",
    "\n",
    "  res = np.zeros((newWidth, newLength))\n",
    "  for i in range(0, newWidth, s):\n",
    "    for j in range(0, newLength, s):\n",
    "      tmpArr = newMat[0 + i : k + i, 0 + j : k + j]\n",
    "      val = np.sum(np.multiply(ker, tmpArr))\n",
    "      res[i][j] = val\n",
    "  return res\n",
    "\n",
    "cv2.imshow(convolution(copyImg, 3, 1, 0))\n",
    "\n",
    "#Funny how it works well on colab but not here :v"
   ]
  },
  {
   "cell_type": "code",
   "execution_count": null,
   "metadata": {},
   "outputs": [],
   "source": []
  }
 ],
 "metadata": {
  "kernelspec": {
   "display_name": "Python 3.9.13 64-bit",
   "language": "python",
   "name": "python3"
  },
  "language_info": {
   "codemirror_mode": {
    "name": "ipython",
    "version": 3
   },
   "file_extension": ".py",
   "mimetype": "text/x-python",
   "name": "python",
   "nbconvert_exporter": "python",
   "pygments_lexer": "ipython3",
   "version": "3.9.13"
  },
  "orig_nbformat": 4,
  "vscode": {
   "interpreter": {
    "hash": "c001d3ae7790bedc5266c7718883adb9c26f51f1d81bcb71e2292e13b6c6483f"
   }
  }
 },
 "nbformat": 4,
 "nbformat_minor": 2
}
